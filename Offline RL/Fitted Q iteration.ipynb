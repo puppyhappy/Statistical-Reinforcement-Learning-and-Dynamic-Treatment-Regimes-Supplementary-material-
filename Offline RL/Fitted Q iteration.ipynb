{
 "cells": [
  {
   "cell_type": "code",
   "execution_count": 9,
   "metadata": {},
   "outputs": [],
   "source": [
    "import numpy as np\n",
    "import random as rd"
   ]
  },
  {
   "cell_type": "code",
   "execution_count": 49,
   "metadata": {},
   "outputs": [],
   "source": [
    "class env:\n",
    "    def __init__(self):\n",
    "        self.nS = 3\n",
    "        self.nA = 3\n",
    "        self.reward = np.matrix([[1,0,0],[0.5,0,0.5],[0.5,0.5,0]])\n",
    "        self.P = {0: np.matrix([[0.8,0.1,0.1],[0.5,0,0.5],[0.2,0.4,0.4]]), 1: np.matrix([[0.3,0.3,0.4],[0.2,0.1,0.7],[0.4,0.4,0.2]]), 2: np.matrix([[0.1,0.5,0.4],[0.3,0.5,0.2],[0,0.1,0.9]])}\n",
    "    \n",
    "    def offline_set(self, N, k):\n",
    "        #we use T_i = k in this setting\n",
    "        offline_set = {}\n",
    "        for i in range(N):\n",
    "            result = []\n",
    "            for j in range(k):\n",
    "                state = rd.randint(0,self.nS-1)\n",
    "                action = rd.randint(0,self.nA-1)\n",
    "                reward = self.reward[state, action]\n",
    "                result.append(state)\n",
    "                result.append(action)\n",
    "                result.append(reward)\n",
    "            result.append(rd.randint(0,self.nS-1))\n",
    "            offline_set[i] = result\n",
    "        return offline_set\n",
    "        "
   ]
  },
  {
   "cell_type": "code",
   "execution_count": 95,
   "metadata": {},
   "outputs": [],
   "source": [
    "#set up the environment\n",
    "env1 = env()\n",
    "#create offline dataset\n",
    "data = env1.offline_set(50,100)"
   ]
  },
  {
   "cell_type": "code",
   "execution_count": 96,
   "metadata": {},
   "outputs": [],
   "source": [
    "def Fitted_Q_iteration(data, nS, nA, N,theta=0.00001, discount_factor=0.5):\n",
    "    \"\"\"\n",
    "    Find nearly-optimal policy via FQI, details can be found in chapter.\n",
    "    \n",
    "    Args:\n",
    "        data: A dictionary, with key represent the index of trajectory, each trajectory is a list;\n",
    "        nS: The number of states in the environment;\n",
    "        nA: The number of actions in the environment;\n",
    "        N: The number of trajectories collected;\n",
    "        theta: We stop iteration once our Q function change is less than theta for all states.\n",
    "        discount_factor: Gamma discount factor.\n",
    "    \n",
    "    Returns:\n",
    "        A tuple (policy, Q) of the nearly-optimal policy and the corresponding estimated Q function.\n",
    "    \"\"\"\n",
    "    Q_1 = np.zeros([nS,nA])\n",
    "    Q = []\n",
    "    Q.append(Q_1)\n",
    "    \n",
    "    for i in range(N):\n",
    "        index = 0\n",
    "        Q_2 = np.zeros([nS,nA])\n",
    "        for j in range(len(data[i])//3):\n",
    "            Q_2[data[i][index],data[i][index+1]] = data[i][index+2] + discount_factor * Q[len(Q)-1][data[i][index+3],np.argmax(Q[len(Q)-1][data[i][index+3],:])]\n",
    "            index += 3\n",
    "            Q.append(Q_2)\n",
    "    \n",
    "    Q_f = Q[len(Q)-1]\n",
    "    \n",
    "    policy = np.zeros([nS, nA])\n",
    "    for s in range(nS):\n",
    "        best_action = np.argmax(Q_f[s,:])\n",
    "        policy[s, best_action] = 1.0\n",
    "    \n",
    "    return policy, Q_f\n",
    "    \n",
    "    "
   ]
  },
  {
   "cell_type": "code",
   "execution_count": 97,
   "metadata": {},
   "outputs": [],
   "source": [
    "opt_policy, Q = Fitted_Q_iteration(data = data, nS = env1.nS, nA = env1.nA, N = 10)"
   ]
  },
  {
   "cell_type": "code",
   "execution_count": 98,
   "metadata": {},
   "outputs": [
    {
     "data": {
      "text/plain": [
       "array([[1., 0., 0.],\n",
       "       [0., 0., 1.],\n",
       "       [0., 1., 0.]])"
      ]
     },
     "execution_count": 98,
     "metadata": {},
     "output_type": "execute_result"
    }
   ],
   "source": [
    "opt_policy"
   ]
  },
  {
   "cell_type": "code",
   "execution_count": 99,
   "metadata": {},
   "outputs": [
    {
     "data": {
      "text/plain": [
       "array([[1.70699044, 0.67674761, 0.58199044],\n",
       "       [1.20699044, 0.66398088, 1.35349522],\n",
       "       [1.12369402, 1.35349522, 0.57796175]])"
      ]
     },
     "execution_count": 99,
     "metadata": {},
     "output_type": "execute_result"
    }
   ],
   "source": [
    "Q"
   ]
  }
 ],
 "metadata": {
  "kernelspec": {
   "display_name": "Python 3",
   "language": "python",
   "name": "python3"
  },
  "language_info": {
   "codemirror_mode": {
    "name": "ipython",
    "version": 3
   },
   "file_extension": ".py",
   "mimetype": "text/x-python",
   "name": "python",
   "nbconvert_exporter": "python",
   "pygments_lexer": "ipython3",
   "version": "3.8.5"
  }
 },
 "nbformat": 4,
 "nbformat_minor": 4
}
