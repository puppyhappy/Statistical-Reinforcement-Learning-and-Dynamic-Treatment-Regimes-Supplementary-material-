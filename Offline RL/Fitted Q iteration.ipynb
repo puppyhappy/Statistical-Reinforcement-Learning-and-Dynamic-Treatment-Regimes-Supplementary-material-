{
 "cells": [
  {
   "cell_type": "code",
   "execution_count": 1,
   "metadata": {},
   "outputs": [],
   "source": [
    "import numpy as np\n",
    "import random as rd\n",
    "from sklearn.tree import DecisionTreeRegressor"
   ]
  },
  {
   "cell_type": "code",
   "execution_count": 37,
   "metadata": {},
   "outputs": [],
   "source": [
    "class env:\n",
    "    def __init__(self):\n",
    "        self.nS = 3\n",
    "        self.nA = 3\n",
    "        self.reward = np.matrix([[1,0,0],[0.5,0,0.5],[0.5,0.5,0]])\n",
    "        self.P = {0: np.matrix([[0.8,0.1,0.1],[0.5,0,0.5],[0.2,0.4,0.4]]), 1: np.matrix([[0.3,0.3,0.4],[0.2,0.1,0.7],[0.4,0.4,0.2]]), 2: np.matrix([[0.1,0.5,0.4],[0.3,0.5,0.2],[0,0.1,0.9]])}\n",
    "    \n",
    "    def offline_set(self, N, k):\n",
    "        #we use T_i = k in this setting\n",
    "        offline_set = {}\n",
    "        for i in range(N):\n",
    "            result = []\n",
    "            for j in range(k):\n",
    "                if j == 0:\n",
    "                    state = rd.randint(0,self.nS-1)\n",
    "                else:\n",
    "                    num = rd.random()\n",
    "                    target = self.P[result[len(result)-3]][result[len(result)-2],:]\n",
    "                    if num <= target[0,0]:\n",
    "                        state = 0\n",
    "                    elif num <= target[0,0]+target[0,1]:\n",
    "                        state = 1\n",
    "                    else:\n",
    "                        state = 2\n",
    "                action = rd.randint(0,self.nA-1)\n",
    "                reward = self.reward[int(state), int(action)]\n",
    "                result.append(int(state))\n",
    "                result.append(int(action))\n",
    "                result.append(reward)\n",
    "            result.append(rd.randint(0,self.nS-1))\n",
    "            offline_set[i] = result\n",
    "        return offline_set\n",
    "        "
   ]
  },
  {
   "cell_type": "code",
   "execution_count": 38,
   "metadata": {},
   "outputs": [],
   "source": [
    "#set up the environment\n",
    "env1 = env()\n",
    "#create offline dataset\n",
    "data = env1.offline_set(10,500)"
   ]
  },
  {
   "cell_type": "code",
   "execution_count": 17,
   "metadata": {},
   "outputs": [],
   "source": [
    "def transformation(data, n, Q):\n",
    "    \"\"\"\n",
    "    Transform the list into a dataset.\n",
    "    \n",
    "    \"\"\"\n",
    "    index = 0\n",
    "    \n",
    "    for j in range(len(data[n])//3):\n",
    "        if j == 0:\n",
    "            result = np.array([[data[n][index],data[n][index+1], Q[data[n][index],data[n][index+1]]]])\n",
    "        else:\n",
    "            result = np.row_stack((result, [data[n][index], data[n][index+1], Q[data[n][index],data[n][index+1]]]))\n",
    "        index += 3\n",
    "    return result\n",
    "        "
   ]
  },
  {
   "cell_type": "code",
   "execution_count": 21,
   "metadata": {},
   "outputs": [],
   "source": [
    "def Fitted_Q_iteration(data, nS, nA, N, theta=0.00001, discount_factor=0.5):\n",
    "    \"\"\"\n",
    "    Find nearly-optimal policy via FQI, details can be found in chapter.\n",
    "    \n",
    "    Args:\n",
    "        data: A dictionary, with key represent the index of trajectory, each trajectory is a list;\n",
    "        nS: The number of states in the environment;\n",
    "        nA: The number of actions in the environment;\n",
    "        N: The number of trajectories collected;\n",
    "        theta: We stop iteration once our Q function change is less than theta for all states.\n",
    "        discount_factor: Gamma discount factor.\n",
    "    \n",
    "    Returns:\n",
    "        A tuple (policy, Q) of the nearly-optimal policy and the corresponding estimated Q function.\n",
    "    \"\"\"\n",
    "    Q_1 = np.zeros([nS,nA])\n",
    "    Q = []\n",
    "    Q.append(Q_1)\n",
    "    i = 0\n",
    "    while True:\n",
    "        index = 0\n",
    "        Q_2 = np.zeros([nS,nA])\n",
    "        for j in range(len(data[i])//3):\n",
    "            Q_2[data[i][index],data[i][index+1]] = data[i][index+2] + discount_factor * Q[len(Q)-1][data[i][index+3],np.argmax(Q[len(Q)-1][data[i][index+3],:])]\n",
    "            index += 3\n",
    "        Q.append(Q_2)\n",
    "        tree_data = transformation(data, i, Q[len(Q)-1])\n",
    "        X = tree_data[:, 0:2]\n",
    "        y = tree_data[:, 2]\n",
    "        tree = DecisionTreeRegressor(random_state = 0)\n",
    "        tree.fit(X, y)\n",
    "        ##use tree-based method as an example, here only use one tree\n",
    "        Q_2 = np.zeros([nS, nA])\n",
    "        for t in range(nS):\n",
    "            for l in range(nA):\n",
    "                K = np.zeros([nS, nA])\n",
    "                s = 0\n",
    "                tree_index = 0\n",
    "                for k in range(len(data[i])//3):\n",
    "                    s += (tree.predict(np.array([[t,l]]))[0] == tree.predict(np.array([[data[i][tree_index],data[i][tree_index+1]]]))[0])\n",
    "                    tree_index += 3\n",
    "                for m in range(nS):\n",
    "                    for n in range(nA):\n",
    "                        K[m, n] = (tree.predict(np.array([[t,l]]))[0] == tree.predict(np.array([[m,n]]))[0])/s\n",
    "                tree_index = 0\n",
    "                for k in range(len(data[i])//3):\n",
    "                    Q_2[t,l] += K[data[i][tree_index], data[i][tree_index+1]]*(data[i][tree_index+2]+discount_factor*Q[len(Q)-1][data[i][tree_index+3],np.argmax(Q[len(Q)-1][data[i][tree_index+3],:])])\n",
    "                    tree_index += 3    \n",
    "        Q.append(Q_2)\n",
    "        i += 1\n",
    "        if i == N-1:\n",
    "            break\n",
    "        elif np.max(Q[len(Q)-1]-Q[len(Q)-3]) < theta:\n",
    "            break\n",
    "    \n",
    "    Q_f = Q[len(Q)-1]\n",
    "    \n",
    "    policy = np.zeros([nS, nA])\n",
    "    for s in range(nS):\n",
    "        best_action = np.argmax(Q_f[s,:])\n",
    "        policy[s, best_action] = 1.0\n",
    "    \n",
    "    return policy, Q_f\n",
    "    \n",
    "    "
   ]
  },
  {
   "cell_type": "code",
   "execution_count": 39,
   "metadata": {},
   "outputs": [],
   "source": [
    "opt_policy, Q = Fitted_Q_iteration(data = data, nS = env1.nS, nA = env1.nA, N = 100)"
   ]
  },
  {
   "cell_type": "code",
   "execution_count": 40,
   "metadata": {},
   "outputs": [
    {
     "data": {
      "text/plain": [
       "array([[1., 0., 0.],\n",
       "       [0., 0., 1.],\n",
       "       [0., 1., 0.]])"
      ]
     },
     "execution_count": 40,
     "metadata": {},
     "output_type": "execute_result"
    }
   ],
   "source": [
    "opt_policy"
   ]
  },
  {
   "cell_type": "code",
   "execution_count": 41,
   "metadata": {},
   "outputs": [
    {
     "data": {
      "text/plain": [
       "array([[1.75365985, 0.69655029, 0.57571014],\n",
       "       [1.14213765, 0.5830127 , 1.16816201],\n",
       "       [1.06227229, 1.11340011, 0.55223939]])"
      ]
     },
     "execution_count": 41,
     "metadata": {},
     "output_type": "execute_result"
    }
   ],
   "source": [
    "Q"
   ]
  }
 ],
 "metadata": {
  "kernelspec": {
   "display_name": "Python 3",
   "language": "python",
   "name": "python3"
  },
  "language_info": {
   "codemirror_mode": {
    "name": "ipython",
    "version": 3
   },
   "file_extension": ".py",
   "mimetype": "text/x-python",
   "name": "python",
   "nbconvert_exporter": "python",
   "pygments_lexer": "ipython3",
   "version": "3.8.5"
  }
 },
 "nbformat": 4,
 "nbformat_minor": 4
}
