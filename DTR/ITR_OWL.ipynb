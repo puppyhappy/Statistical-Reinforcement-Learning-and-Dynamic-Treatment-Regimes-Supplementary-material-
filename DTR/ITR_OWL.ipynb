{
 "cells": [
  {
   "cell_type": "code",
   "execution_count": 1,
   "metadata": {},
   "outputs": [],
   "source": [
    "import numpy as np\n",
    "import random as rd"
   ]
  },
  {
   "cell_type": "code",
   "execution_count": 2,
   "metadata": {},
   "outputs": [],
   "source": [
    "class env:\n",
    "    def __init__(self):\n",
    "        self.nS = 2\n",
    "        self.nA = 2\n",
    "        self.reward = np.matrix([[1,0],[0,1]])\n",
    "        self.P = {0: np.matrix([[0.5,0.5],[0.5,0.5]]), 1: np.matrix([[0.5,0.5],[0.5,0.5]])}\n",
    "    \n",
    "    def offline_set(self, N, k):\n",
    "        offline_set = {}\n",
    "        for i in range(N):\n",
    "            result = []\n",
    "            for j in range(k):\n",
    "                if j == 0:\n",
    "                    state = rd.randint(0,self.nS-1)\n",
    "                else:\n",
    "                    num = rd.random()\n",
    "                    target = self.P[result[len(result)-3]][result[len(result)-2],:]\n",
    "                    if num <= target[0,0]:\n",
    "                        state = 0\n",
    "                    else:\n",
    "                        state = 1\n",
    "                action = rd.randint(0,self.nA-1)\n",
    "                reward = self.reward[int(state), int(action)]\n",
    "                result.append(int(state))\n",
    "                result.append(int(action))\n",
    "                result.append(reward)\n",
    "            offline_set[i] = result\n",
    "        return offline_set"
   ]
  },
  {
   "cell_type": "code",
   "execution_count": 3,
   "metadata": {},
   "outputs": [],
   "source": [
    "env1 = env()\n",
    "data = env1.offline_set(30,1)"
   ]
  },
  {
   "cell_type": "code",
   "execution_count": 12,
   "metadata": {},
   "outputs": [],
   "source": [
    "def ITR_OWL(data, N):\n",
    "    ITR = {'0':0, '1':0}\n",
    "    his = ['0', '1']\n",
    "    his_re = []\n",
    "    for i in his:\n",
    "        count_0 = 0\n",
    "        count_0_re = 0\n",
    "        count_1 = 0\n",
    "        count_1_re = 0\n",
    "        for j in range(N):\n",
    "            if str(data[j][0]) == i:\n",
    "                if data[j][1] == 0:\n",
    "                    count_0 += 1\n",
    "                    count_0_re += data[j][len(data[j])-1]\n",
    "                    \n",
    "                else:\n",
    "                    count_1 += 1\n",
    "                    count_1_re += data[j][len(data[j])-1]\n",
    "          \n",
    "        count_0_re = (count_0_re/(count_0/(count_0+count_1)))/(count_0+count_1)\n",
    "        count_1_re = (count_1_re/(count_1/(count_0+count_1)))/(count_0+count_1)\n",
    "        if count_0_re >= count_1_re:\n",
    "            his_re.append(0)\n",
    "        else:\n",
    "            his_re.append(1)\n",
    "    for item in range(len(his)):\n",
    "        ITR[his[item]] = his_re[item]\n",
    "    return ITR"
   ]
  },
  {
   "cell_type": "code",
   "execution_count": 13,
   "metadata": {},
   "outputs": [],
   "source": [
    "ITR = ITR_OWL(data, 30)"
   ]
  },
  {
   "cell_type": "code",
   "execution_count": 14,
   "metadata": {},
   "outputs": [
    {
     "data": {
      "text/plain": [
       "{'0': 0, '1': 1}"
      ]
     },
     "execution_count": 14,
     "metadata": {},
     "output_type": "execute_result"
    }
   ],
   "source": [
    "ITR"
   ]
  }
 ],
 "metadata": {
  "kernelspec": {
   "display_name": "Python 3",
   "language": "python",
   "name": "python3"
  },
  "language_info": {
   "codemirror_mode": {
    "name": "ipython",
    "version": 3
   },
   "file_extension": ".py",
   "mimetype": "text/x-python",
   "name": "python",
   "nbconvert_exporter": "python",
   "pygments_lexer": "ipython3",
   "version": "3.8.5"
  }
 },
 "nbformat": 4,
 "nbformat_minor": 4
}
