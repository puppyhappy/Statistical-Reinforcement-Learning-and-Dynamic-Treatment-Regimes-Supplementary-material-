{
 "cells": [
  {
   "cell_type": "code",
   "execution_count": 1,
   "metadata": {},
   "outputs": [],
   "source": [
    "import numpy as np\n",
    "import random as rd"
   ]
  },
  {
   "cell_type": "code",
   "execution_count": 2,
   "metadata": {},
   "outputs": [],
   "source": [
    "class env:\n",
    "    def __init__(self):\n",
    "        self.nS = 3\n",
    "        self.nA = 3\n",
    "        self.reward = np.matrix([[1,0,0],[0.5,0,0.5],[0.5,0.5,0]])\n",
    "        self.P = {0: np.matrix([[0.8,0.1,0.1],[0.5,0,0.5],[0.2,0.4,0.4]]), 1: np.matrix([[0.3,0.3,0.4],[0.2,0.1,0.7],[0.4,0.4,0.2]]), 2: np.matrix([[0.1,0.5,0.4],[0.3,0.5,0.2],[0,0.1,0.9]])}\n",
    "    \n",
    "    def offline_set(self, N, k):\n",
    "        #we use T_i = k in this setting\n",
    "        offline_set = {}\n",
    "        for i in range(N):\n",
    "            result = []\n",
    "            for j in range(k):\n",
    "                state = rd.randint(0,self.nS-1)\n",
    "                action = rd.randint(0,self.nA-1)\n",
    "                reward = self.reward[state, action]\n",
    "                result.append(state)\n",
    "                result.append(action)\n",
    "                result.append(reward)\n",
    "            result.append(rd.randint(0,self.nS-1))\n",
    "            offline_set[i] = result\n",
    "        return offline_set\n",
    "        "
   ]
  },
  {
   "cell_type": "markdown",
   "metadata": {},
   "source": [
    "We can find the offline dataset following a behavior policy that can be described as a [S,A] matrix as\n",
    "[[1/3, 1/3, 1/3],\n",
    "[1/3, 1/3, 1/3],\n",
    "[1/3, 1/3, 1/3]]."
   ]
  },
  {
   "cell_type": "code",
   "execution_count": 24,
   "metadata": {},
   "outputs": [],
   "source": [
    "def TD_batch(data, N, env, alpha, discount_factor=0.5, theta=0.00001):\n",
    "    \"\"\"\n",
    "    TD learning (batch version) Algorithm.\n",
    "    \n",
    "    Args:\n",
    "        data: Offline dataset;\n",
    "        N: The number of trajectories;\n",
    "        env: The environment;\n",
    "        alpha: Learning rate;\n",
    "        theta: We stop evaluation once our value function change is less than theta for all states;\n",
    "        discount_factor: Gamma discount factor.\n",
    "        \n",
    "    Returns:\n",
    "        V is the value function corresponding to the behavior policy.\n",
    "        \n",
    "    \"\"\"\n",
    "    V = np.zeros(env.nS)\n",
    "    i = 0\n",
    "    while True:\n",
    "        delta = 0\n",
    "        index = 0\n",
    "        for j in range(len(data[i])//3):\n",
    "            V[data[i][index]] += alpha * (data[i][index+2] + discount_factor * V[data[i][index+3]] - V[data[i][index]])\n",
    "            delta = max(delta, alpha * (data[i][index+2] + discount_factor * V[data[i][index+3]] - V[data[i][index]]))\n",
    "            index += 3\n",
    "        i += 1\n",
    "        if i == N-1:\n",
    "            break\n",
    "        elif delta <= theta:\n",
    "            break\n",
    "        return V\n",
    "        "
   ]
  },
  {
   "cell_type": "code",
   "execution_count": 3,
   "metadata": {},
   "outputs": [],
   "source": [
    "def policy_eval(policy, env, discount_factor=0.5, theta=0.00001):\n",
    "    \"\"\"\n",
    "    Evaluate a policy given an environment and a full description of the environment's dynamics.\n",
    "    \n",
    "    Args:\n",
    "        policy: [S, A] shaped matrix representing the policy.\n",
    "        env: \n",
    "            env.P[s] is a matrix of with (i,j) represent P(j|s,i).\n",
    "            env.nS is a number of states in the environment. \n",
    "            env.nA is a number of actions in the environment.\n",
    "        theta: We stop evaluation once our value function change is less than theta for all states.\n",
    "        discount_factor: Gamma discount factor.\n",
    "    \n",
    "    Returns:\n",
    "        Vector of length env.nS representing the value function.\n",
    "    \"\"\"\n",
    "    V = np.zeros(env.nS)\n",
    "    while True:\n",
    "        delta = 0\n",
    "        for s in range(env.nS):\n",
    "            v = 0\n",
    "            for a, action_prob in enumerate(policy[s]):\n",
    "                for j in range(env.nS):\n",
    "                    v += action_prob * env.P[s][a,j] * (env.reward[s,a] + discount_factor * V[j])\n",
    "            # How much our value function changed (across any states)\n",
    "            delta = max(delta, np.abs(v - V[s]))\n",
    "            V[s] = v\n",
    "        # Stop evaluating once our value function change is below a threshold\n",
    "        if delta < theta:\n",
    "            break\n",
    "    return np.array(V)"
   ]
  },
  {
   "cell_type": "code",
   "execution_count": 4,
   "metadata": {},
   "outputs": [],
   "source": [
    "env1 = env()\n",
    "b_policy = np.array([[1/3,1/3,1/3],[1/3,1/3,1/3],[1/3,1/3,1/3]])\n",
    "V = policy_eval(b_policy, env1)"
   ]
  },
  {
   "cell_type": "code",
   "execution_count": 5,
   "metadata": {},
   "outputs": [
    {
     "data": {
      "text/plain": [
       "array([0.66666109, 0.66666297, 0.66666377])"
      ]
     },
     "execution_count": 5,
     "metadata": {},
     "output_type": "execute_result"
    }
   ],
   "source": [
    "V"
   ]
  },
  {
   "cell_type": "code",
   "execution_count": 81,
   "metadata": {},
   "outputs": [],
   "source": [
    "data = env1.offline_set(10000,200)\n",
    "V = TD_batch(data, 10000, env1, alpha = 0.1)"
   ]
  },
  {
   "cell_type": "code",
   "execution_count": 82,
   "metadata": {},
   "outputs": [
    {
     "data": {
      "text/plain": [
       "array([0.59077384, 0.68979004, 0.5832737 ])"
      ]
     },
     "execution_count": 82,
     "metadata": {},
     "output_type": "execute_result"
    }
   ],
   "source": [
    "V"
   ]
  }
 ],
 "metadata": {
  "kernelspec": {
   "display_name": "Python 3",
   "language": "python",
   "name": "python3"
  },
  "language_info": {
   "codemirror_mode": {
    "name": "ipython",
    "version": 3
   },
   "file_extension": ".py",
   "mimetype": "text/x-python",
   "name": "python",
   "nbconvert_exporter": "python",
   "pygments_lexer": "ipython3",
   "version": "3.8.5"
  }
 },
 "nbformat": 4,
 "nbformat_minor": 4
}
